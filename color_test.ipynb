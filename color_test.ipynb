{
 "cells": [
  {
   "cell_type": "code",
   "execution_count": 22,
   "metadata": {},
   "outputs": [],
   "source": [
    "import streamlit as st\n",
    "import numpy as np\n",
    "import pandas as pd\n",
    "import math\n",
    "\n",
    "from PIL import Image, ImageDraw\n",
    "from lego_colors import LEGO_COLORS_ALL\n",
    "from lego_colors_round import LEGO_COLORS_ROUND\n",
    "from lego_colors_square import LEGO_COLORS_SQUARE\n",
    "from lego_colors_square_available import LEGO_COLORS_SQUARE_AVAILABLE\n",
    "from utils import create_mosaic, draw_mosaic, draw_instructions, get_image_download_link, save_feedback_to_google_sheets\n"
   ]
  },
  {
   "cell_type": "code",
   "execution_count": 47,
   "metadata": {},
   "outputs": [],
   "source": [
    "import math\n",
    "\n",
    "def find_closest_lego_color(r, g, b, lego_colors):\n",
    "    \"\"\"Find the closest LEGO color to the given RGB input using CIE Lab color space.\"\"\"\n",
    "    # Clamp RGB values to [0, 255]\n",
    "    r, g, b = max(0, min(255, float(r))), max(0, min(255, float(g))), max(0, min(255, float(b)))\n",
    "    \n",
    "    # Convert input RGB to Lab\n",
    "    input_lab = rgb_to_lab(r, g, b)\n",
    "    \n",
    "    # Compute closest color by CIE Lab color space distance\n",
    "    min_dist = float('inf')\n",
    "    closest = None\n",
    "    for name, hex_code, lr, lg, lb in lego_colors:\n",
    "        color_lab = rgb_to_lab(lr, lg, lb)\n",
    "        # Calculate Delta E (CIE76 color difference)\n",
    "        dist = math.sqrt(\n",
    "            (input_lab[0] - color_lab[0]) ** 2 + \n",
    "            (input_lab[1] - color_lab[1]) ** 2 + \n",
    "            (input_lab[2] - color_lab[2]) ** 2\n",
    "        )\n",
    "        if dist < min_dist:\n",
    "            min_dist = dist\n",
    "            closest = {\n",
    "                \"name\": name,\n",
    "                \"hex\": hex_code,\n",
    "                \"rgb\": (lr, lg, lb),\n",
    "                \"distance\": dist\n",
    "            }\n",
    "    return closest\n",
    "\n",
    "def rgb_to_xyz(r, g, b):\n",
    "    \"\"\"Convert RGB to XYZ color space.\"\"\"\n",
    "    # Normalize RGB values\n",
    "    r = r / 255\n",
    "    g = g / 255\n",
    "    b = b / 255\n",
    "    \n",
    "    # Apply gamma correction\n",
    "    r = r ** 2.2 if r > 0.04045 else r / 12.92\n",
    "    g = g ** 2.2 if g > 0.04045 else g / 12.92\n",
    "    b = b ** 2.2 if b > 0.04045 else b / 12.92\n",
    "    \n",
    "    # Convert to XYZ using sRGB matrices\n",
    "    r *= 100\n",
    "    g *= 100\n",
    "    b *= 100\n",
    "    \n",
    "    x = r * 0.4124 + g * 0.3576 + b * 0.1805\n",
    "    y = r * 0.2126 + g * 0.7152 + b * 0.0722\n",
    "    z = r * 0.0193 + g * 0.1192 + b * 0.9505\n",
    "    \n",
    "    return [x, y, z]\n",
    "\n",
    "def xyz_to_lab(x, y, z):\n",
    "    \"\"\"Convert XYZ to Lab color space.\"\"\"\n",
    "    # Use D65 white point\n",
    "    xn = 95.047\n",
    "    yn = 100.0\n",
    "    zn = 108.883\n",
    "    \n",
    "    # Normalize XYZ values\n",
    "    x = x / xn\n",
    "    y = y / yn\n",
    "    z = z / zn\n",
    "    \n",
    "    # Apply cube root approximation\n",
    "    x = x ** (1/3) if x > 0.008856 else (7.787 * x) + (16/116)\n",
    "    y = y ** (1/3) if y > 0.008856 else (7.787 * y) + (16/116)\n",
    "    z = z ** (1/3) if z > 0.008856 else (7.787 * z) + (16/116)\n",
    "    \n",
    "    L = (116 * y) - 16\n",
    "    a = 500 * (x - y)\n",
    "    b = 200 * (y - z)\n",
    "    \n",
    "    return [L, a, b]\n",
    "\n",
    "def rgb_to_lab(r, g, b):\n",
    "    \"\"\"Convert RGB directly to Lab color space.\"\"\"\n",
    "    xyz = rgb_to_xyz(r, g, b)\n",
    "    return xyz_to_lab(xyz[0], xyz[1], xyz[2])"
   ]
  },
  {
   "cell_type": "code",
   "execution_count": 48,
   "metadata": {},
   "outputs": [
    {
     "data": {
      "text/plain": [
       "{'name': 'Lavender',\n",
       " 'hex': '#E1D5ED',\n",
       " 'rgb': (225, 213, 237),\n",
       " 'distance': 13.506084021504547}"
      ]
     },
     "execution_count": 48,
     "metadata": {},
     "output_type": "execute_result"
    }
   ],
   "source": [
    "\n",
    "find_closest_lego_color(228, 228, 228, LEGO_COLORS_SQUARE_AVAILABLE)\n",
    "\n"
   ]
  }
 ],
 "metadata": {
  "kernelspec": {
   "display_name": "Python 3",
   "language": "python",
   "name": "python3"
  },
  "language_info": {
   "codemirror_mode": {
    "name": "ipython",
    "version": 3
   },
   "file_extension": ".py",
   "mimetype": "text/x-python",
   "name": "python",
   "nbconvert_exporter": "python",
   "pygments_lexer": "ipython3",
   "version": "3.10.0"
  }
 },
 "nbformat": 4,
 "nbformat_minor": 2
}
